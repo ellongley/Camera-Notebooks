{
 "cells": [
  {
   "cell_type": "markdown",
   "metadata": {},
   "source": [
    "# DataCat EOtest Results\n",
    "\n",
    "Notebook to access eotest results using datacat-utilities, includes focal plane data."
   ]
  },
  {
   "cell_type": "markdown",
   "metadata": {},
   "source": [
    "## Imports "
   ]
  },
  {
   "cell_type": "code",
   "execution_count": 26,
   "metadata": {},
   "outputs": [],
   "source": [
    "import numpy as np\n",
    "import pandas as pd\n",
    "import sys\n",
    "import matplotlib.pyplot as plt\n",
    "import pandas as pd"
   ]
  },
  {
   "cell_type": "code",
   "execution_count": 2,
   "metadata": {},
   "outputs": [],
   "source": [
    "datacat_path = '/home/elp25/repos/datacat-utilities/python'"
   ]
  },
  {
   "cell_type": "code",
   "execution_count": 3,
   "metadata": {},
   "outputs": [],
   "source": [
    "sys.path.insert(0, datacat_path)"
   ]
  },
  {
   "cell_type": "code",
   "execution_count": 4,
   "metadata": {},
   "outputs": [
    {
     "name": "stdout",
     "output_type": "stream",
     "text": [
      "Warning, Data Catalog not available\n",
      "No module named 'datacat'\n"
     ]
    }
   ],
   "source": [
    "from get_EO_analysis_results import get_EO_analysis_results\n",
    "from exploreFocalPlane import exploreFocalPlane\n",
    "from exploreRaft import exploreRaft\n",
    "from eTraveler.clientAPI.connection import Connection\n",
    "from get_steps_schema import get_steps_schema"
   ]
  },
  {
   "cell_type": "markdown",
   "metadata": {},
   "source": [
    "## Explore Raft and Explore Focal Plane\n",
    "\n",
    "Define four objects, to explore results for both prod and dev and both raft-level and focal-plane-level data."
   ]
  },
  {
   "cell_type": "code",
   "execution_count": 5,
   "metadata": {},
   "outputs": [],
   "source": [
    "eFP_Prod = exploreFocalPlane(db=\"Prod\", prodServer=\"Prod\")\n",
    "eR_Prod = exploreRaft(db=\"Prod\", prodServer=\"Prod\")\n",
    "get_EO_Prod = get_EO_analysis_results(db=\"Prod\", server=\"Prod\")\n",
    "get_EO_Dev = get_EO_analysis_results(db=\"Dev\", server=\"Dev\")"
   ]
  },
  {
   "cell_type": "markdown",
   "metadata": {},
   "source": [
    "## Focal Plane Results Example \n",
    "\n",
    "Example to access the results of a BOT run.\n",
    "\n",
    "eTraveler results: https://lsst-camera.slac.stanford.edu/DataPortal/run.jsp?run=6774D&dataSourceMode=Dev "
   ]
  },
  {
   "cell_type": "markdown",
   "metadata": {},
   "source": [
    "Define the run we want to look at. For a list of runs from data with nine science and four corner rafts look at: \n",
    "https://confluence.slac.stanford.edu/display/LSSTCAM/Nine+Science+and+Four+Corner+Raft+EO+Runs"
   ]
  },
  {
   "cell_type": "code",
   "execution_count": 6,
   "metadata": {},
   "outputs": [],
   "source": [
    "run = '6774D'"
   ]
  },
  {
   "cell_type": "markdown",
   "metadata": {},
   "source": [
    "### Extract the test results."
   ]
  },
  {
   "cell_type": "code",
   "execution_count": 7,
   "metadata": {},
   "outputs": [],
   "source": [
    "raft_list, data = get_EO_Prod.get_tests(site_type=\"I&T-BOT\", run=run)"
   ]
  },
  {
   "cell_type": "code",
   "execution_count": 8,
   "metadata": {},
   "outputs": [],
   "source": [
    "res = get_EO_Prod.get_all_results(data=data, device=raft_list)"
   ]
  },
  {
   "cell_type": "markdown",
   "metadata": {},
   "source": [
    "### Get a list of the available tests."
   ]
  },
  {
   "cell_type": "code",
   "execution_count": 9,
   "metadata": {},
   "outputs": [],
   "source": [
    "get_step = get_steps_schema()\n",
    "avail_tests = get_step.get_test_info(runData=data)"
   ]
  },
  {
   "cell_type": "code",
   "execution_count": 10,
   "metadata": {},
   "outputs": [
    {
     "name": "stdout",
     "output_type": "stream",
     "text": [
      "odict_keys(['psf_sigma', 'gain_error', 'gain', 'total_noise', 'system_noise', 'read_noise'])\n"
     ]
    }
   ],
   "source": [
    "print(avail_tests.keys())"
   ]
  },
  {
   "cell_type": "markdown",
   "metadata": {},
   "source": [
    "Plot results of various tests. (Note, datacat-utilities does not use pandas, for this example we are tacking on some usage of it. "
   ]
  },
  {
   "cell_type": "code",
   "execution_count": 11,
   "metadata": {},
   "outputs": [
    {
     "data": {
      "text/plain": [
       "odict_keys(['gain', 'gain_error', 'psf_sigma', 'read_noise', 'system_noise', 'total_noise'])"
      ]
     },
     "execution_count": 11,
     "metadata": {},
     "output_type": "execute_result"
    }
   ],
   "source": [
    "# Each row represents the value of the test quantity for one amplifier\n",
    "res.keys()"
   ]
  },
  {
   "cell_type": "code",
   "execution_count": 12,
   "metadata": {},
   "outputs": [],
   "source": [
    "rafts = res['gain'].keys()"
   ]
  },
  {
   "cell_type": "markdown",
   "metadata": {},
   "source": [
    "### Store results as a dataframe"
   ]
  },
  {
   "cell_type": "code",
   "execution_count": 16,
   "metadata": {},
   "outputs": [],
   "source": [
    "# Dataframe in which each row represents the value of the test quantity for one amplifier \n",
    "\n",
    "def datacatresults_to_dataframe(datacat_results,avail_tests,rafts):\n",
    "    res_df = {}\n",
    "    sensor_list = []\n",
    "    test_list = []\n",
    "    amp_quants_list = []\n",
    "    for test in avail_tests:\n",
    "        for raft in rafts:\n",
    "            sensors = res[test][raft].keys()\n",
    "            for sensor in sensors:\n",
    "                quants = res[test][raft][sensor]\n",
    "                amp_quants_list.extend(quants)\n",
    "                sensor_list.extend([raft+'-'+sensor]*len(quants))\n",
    "                test_list.extend([test]*len(quants))\n",
    "    res_df['sensor'] = sensor_list\n",
    "    res_df['test'] = test_list\n",
    "    res_df['quant'] = amp_quants_list\n",
    "    res_df = pd.DataFrame(res_df)\n",
    "    return res_df"
   ]
  },
  {
   "cell_type": "code",
   "execution_count": 17,
   "metadata": {},
   "outputs": [],
   "source": [
    "res_df = datacatresults_to_dataframe(res,avail_tests,rafts)"
   ]
  },
  {
   "cell_type": "markdown",
   "metadata": {},
   "source": [
    "### FP Results Plots "
   ]
  },
  {
   "cell_type": "code",
   "execution_count": 19,
   "metadata": {},
   "outputs": [
    {
     "data": {
      "text/html": [
       "<div>\n",
       "<style scoped>\n",
       "    .dataframe tbody tr th:only-of-type {\n",
       "        vertical-align: middle;\n",
       "    }\n",
       "\n",
       "    .dataframe tbody tr th {\n",
       "        vertical-align: top;\n",
       "    }\n",
       "\n",
       "    .dataframe thead th {\n",
       "        text-align: right;\n",
       "    }\n",
       "</style>\n",
       "<table border=\"1\" class=\"dataframe\">\n",
       "  <thead>\n",
       "    <tr style=\"text-align: right;\">\n",
       "      <th></th>\n",
       "      <th>sensor</th>\n",
       "      <th>test</th>\n",
       "      <th>quant</th>\n",
       "    </tr>\n",
       "  </thead>\n",
       "  <tbody>\n",
       "    <tr>\n",
       "      <th>0</th>\n",
       "      <td>R01-S00</td>\n",
       "      <td>psf_sigma</td>\n",
       "      <td>4.20</td>\n",
       "    </tr>\n",
       "    <tr>\n",
       "      <th>1</th>\n",
       "      <td>R01-S00</td>\n",
       "      <td>psf_sigma</td>\n",
       "      <td>3.40</td>\n",
       "    </tr>\n",
       "    <tr>\n",
       "      <th>2</th>\n",
       "      <td>R01-S00</td>\n",
       "      <td>psf_sigma</td>\n",
       "      <td>2.44</td>\n",
       "    </tr>\n",
       "    <tr>\n",
       "      <th>3</th>\n",
       "      <td>R01-S00</td>\n",
       "      <td>psf_sigma</td>\n",
       "      <td>4.68</td>\n",
       "    </tr>\n",
       "    <tr>\n",
       "      <th>4</th>\n",
       "      <td>R01-S00</td>\n",
       "      <td>psf_sigma</td>\n",
       "      <td>3.72</td>\n",
       "    </tr>\n",
       "  </tbody>\n",
       "</table>\n",
       "</div>"
      ],
      "text/plain": [
       "    sensor       test  quant\n",
       "0  R01-S00  psf_sigma   4.20\n",
       "1  R01-S00  psf_sigma   3.40\n",
       "2  R01-S00  psf_sigma   2.44\n",
       "3  R01-S00  psf_sigma   4.68\n",
       "4  R01-S00  psf_sigma   3.72"
      ]
     },
     "execution_count": 19,
     "metadata": {},
     "output_type": "execute_result"
    }
   ],
   "source": [
    "res_df.head()"
   ]
  },
  {
   "cell_type": "code",
   "execution_count": 20,
   "metadata": {},
   "outputs": [],
   "source": [
    "test = 'psf_sigma'\n",
    "psf_sigma = res_df.query('test==@test')"
   ]
  },
  {
   "cell_type": "code",
   "execution_count": 32,
   "metadata": {},
   "outputs": [
    {
     "data": {
      "image/png": "[encoded data removed]",
      "text/plain": [
       "<Figure size 432x288 with 1 Axes>"
      ]
     },
     "metadata": {
      "needs_background": "light"
     },
     "output_type": "display_data"
    }
   ],
   "source": [
    "plt.hist(psf_sigma['quant'],bins=100,histtype='step')\n",
    "plt.title('Run '+run+', '+test)\n",
    "plt.xlim(3.0,6)\n",
    "plt.xlabel('psf_sigma')\n",
    "plt.ylabel('# of amplifiers')\n",
    "plt.show()"
   ]
  },
  {
   "cell_type": "code",
   "execution_count": 34,
   "metadata": {},
   "outputs": [],
   "source": [
    "test = 'gain'\n",
    "gain = res_df.query('test==@test')"
   ]
  },
  {
   "cell_type": "code",
   "execution_count": 37,
   "metadata": {},
   "outputs": [
    {
     "data": {
      "image/png": "[encoded data removed]",
      "text/plain": [
       "<Figure size 432x288 with 1 Axes>"
      ]
     },
     "metadata": {
      "needs_background": "light"
     },
     "output_type": "display_data"
    }
   ],
   "source": [
    "plt.hist(gain['quant'],bins=100,histtype='step')\n",
    "plt.title('Run '+run+', '+test)\n",
    "plt.xlabel('gain')\n",
    "plt.ylabel('# of amplifiers')\n",
    "plt.show()"
   ]
  },
  {
   "cell_type": "code",
   "execution_count": 46,
   "metadata": {},
   "outputs": [
    {
     "data": {
      "text/plain": [
       "OrderedDict([('psf_sigma', ['fe55_analysis_BOT', 'fe55_BOT_analysis']),\n",
       "             ('gain_error', ['fe55_analysis_BOT', 'fe55_BOT_analysis']),\n",
       "             ('gain', ['fe55_analysis_BOT', 'fe55_BOT_analysis']),\n",
       "             ('total_noise', ['read_noise_BOT', 'read_noise_BOT']),\n",
       "             ('system_noise', ['read_noise_BOT', 'read_noise_BOT']),\n",
       "             ('read_noise', ['read_noise_BOT', 'read_noise_BOT'])])"
      ]
     },
     "execution_count": 46,
     "metadata": {},
     "output_type": "execute_result"
    }
   ],
   "source": [
    "avail_tests"
   ]
  },
  {
   "cell_type": "code",
   "execution_count": 47,
   "metadata": {},
   "outputs": [],
   "source": [
    "test = 'gain'\n",
    "test_err = 'gain_error'\n",
    "gain = res_df.query('test==@test')\n",
    "gain_err = res_df.query('test==@test_err')"
   ]
  },
  {
   "cell_type": "code",
   "execution_count": 68,
   "metadata": {},
   "outputs": [
    {
     "data": {
      "text/plain": [
       "(0, 0.04)"
      ]
     },
     "execution_count": 68,
     "metadata": {},
     "output_type": "execute_result"
    },
    {
     "data": {
      "image/png": "[encoded data removed]",
      "text/plain": [
       "<Figure size 432x288 with 1 Axes>"
      ]
     },
     "metadata": {
      "needs_background": "light"
     },
     "output_type": "display_data"
    }
   ],
   "source": [
    "plt.scatter(gain['quant'],gain_err['quant'],s=2.0)\n",
    "plt.xlabel('gain_error')\n",
    "plt.ylabel('gain')\n",
    "plt.title('Run '+run+', '+test)\n",
    "plt.xlim(0.8,1.75)\n",
    "plt.ylim(0,0.04)"
   ]
  },
  {
   "cell_type": "code",
   "execution_count": 70,
   "metadata": {},
   "outputs": [
    {
     "data": {
      "text/plain": [
       "(0.01, 0.02)"
      ]
     },
     "execution_count": 70,
     "metadata": {},
     "output_type": "execute_result"
    },
    {
     "data": {
      "image/png": "[encoded data removed]",
      "text/plain": [
       "<Figure size 432x288 with 1 Axes>"
      ]
     },
     "metadata": {
      "needs_background": "light"
     },
     "output_type": "display_data"
    }
   ],
   "source": [
    "plt.scatter(gain['quant'],gain_err['quant'],s=2.0)\n",
    "plt.xlabel('gain_error')\n",
    "plt.ylabel('gain')\n",
    "plt.title('Run '+run+', '+test)\n",
    "plt.xlim(0.9,1.6)\n",
    "plt.ylim(0.01,0.02)"
   ]
  }
 ],
 "metadata": {
  "kernelspec": {
   "display_name": "LSST",
   "language": "python",
   "name": "lsst"
  },
  "language_info": {
   "codemirror_mode": {
    "name": "ipython",
    "version": 3
   },
   "file_extension": ".py",
   "mimetype": "text/x-python",
   "name": "python",
   "nbconvert_exporter": "python",
   "pygments_lexer": "ipython3",
   "version": "3.7.2"
  }
 },
 "nbformat": 4,
 "nbformat_minor": 2
}
